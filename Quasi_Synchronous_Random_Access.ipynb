{
  "nbformat": 4,
  "nbformat_minor": 0,
  "metadata": {
    "colab": {
      "provenance": [],
      "authorship_tag": "ABX9TyNfY8MxLfT4+ab3c91WHK47",
      "include_colab_link": true
    },
    "kernelspec": {
      "name": "python3",
      "display_name": "Python 3"
    },
    "language_info": {
      "name": "python"
    }
  },
  "cells": [
    {
      "cell_type": "markdown",
      "metadata": {
        "id": "view-in-github",
        "colab_type": "text"
      },
      "source": [
        "<a href=\"https://colab.research.google.com/github/krishnakm4/Quasi-Synchronous-Random-Access/blob/main/Quasi_Synchronous_Random_Access.ipynb\" target=\"_parent\"><img src=\"https://colab.research.google.com/assets/colab-badge.svg\" alt=\"Open In Colab\"/></a>"
      ]
    },
    {
      "cell_type": "code",
      "execution_count": 11,
      "metadata": {
        "id": "dKhYUdoUYnaL"
      },
      "outputs": [],
      "source": [
        "import numpy as np\n",
        "\n",
        "def calculate_Gkq(alpha_k, beta_kpq, theta_kq, phi_kq, theta_kpq, phi_kpq):\n",
        "    # alpha_k: Scalar value for alpha_k\n",
        "    # beta_kpq: A 3-dimensional numpy array containing beta values\n",
        "    # theta_kq, phi_kq, theta_kpq, phi_kpq: Numpy arrays containing theta and phi values\n",
        "\n",
        "    num_elements = len(theta_kq)  # Assuming that theta_kq and phi_kq have the same length\n",
        "\n",
        "    Gkq = np.zeros(num_elements, dtype=np.complex128)\n",
        "\n",
        "    for l in range(num_elements):\n",
        "        for p in range(num_elements):\n",
        "            sum_val = 0.0\n",
        "            for x in range(len(beta_kpq)):\n",
        "                sum_val += beta_kpq[x][l][p] * np.exp(1j * theta_kpq[x, l, p]) * np.exp(1j * phi_kpq[x, l, p])\n",
        "\n",
        "            Gkq[l] += alpha_k * np.power(sum_val, -1) * np.exp(1j * theta_kq[l]) * np.exp(1j * phi_kq[l])\n",
        "\n",
        "    return Gkq"
      ]
    },
    {
      "cell_type": "code",
      "source": [
        "import numpy as np\n",
        "import numpy.testing as npt\n",
        "\n",
        "def test_calculate_Gkq():\n",
        "    # Sample input data\n",
        "    alpha_k = 0.1\n",
        "    beta_kpq = np.random.rand(3, 3, 3) + 1j * np.random.rand(3, 3, 3)\n",
        "    theta_kq = np.random.rand(3)\n",
        "    phi_kq = np.random.rand(3)\n",
        "    theta_kpq = np.random.rand(3, 3, 3)\n",
        "    phi_kpq = np.random.rand(3, 3, 3)\n",
        "\n",
        "    # Expected results (assuming they are calculated correctly)\n",
        "    expected_result = alpha_k * np.sum(beta_kpq * np.exp(1j * theta_kpq) * np.exp(1j * phi_kpq) / (np.exp(1j * theta_kq) * np.exp(1j * phi_kq)))\n",
        "\n",
        "    # Calculate the result using the function\n",
        "    result = calculate_Gkq(alpha_k, beta_kpq, theta_kq, phi_kq, theta_kpq, phi_kpq)\n",
        "\n",
        "    # Compare the result with the expected result\n",
        "    #npt.assert_allclose(result, expected_result, rtol=1e-5)\n",
        "    print(result)\n",
        "\n",
        "if __name__ == \"__main__\":\n",
        "    test_calculate_Gkq()\n"
      ],
      "metadata": {
        "colab": {
          "base_uri": "https://localhost:8080/"
        },
        "id": "JyMKZQmVbc9n",
        "outputId": "efad7f8c-307d-4604-d2eb-9962cb9e761e"
      },
      "execution_count": 14,
      "outputs": [
        {
          "output_type": "stream",
          "name": "stdout",
          "text": [
            "[0.15460916-0.0305341j  0.09161552-0.09966827j 0.11737377-0.04319176j]\n"
          ]
        }
      ]
    }
  ]
}