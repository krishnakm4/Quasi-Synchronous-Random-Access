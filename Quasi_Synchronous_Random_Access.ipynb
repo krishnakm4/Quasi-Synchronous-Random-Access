{
  "nbformat": 4,
  "nbformat_minor": 0,
  "metadata": {
    "colab": {
      "provenance": [],
      "collapsed_sections": [
        "M4bozbmNc6Gb"
      ],
      "authorship_tag": "ABX9TyPsI4eqA/MpiFX4NKe1vsd9",
      "include_colab_link": true
    },
    "kernelspec": {
      "name": "python3",
      "display_name": "Python 3"
    },
    "language_info": {
      "name": "python"
    }
  },
  "cells": [
    {
      "cell_type": "markdown",
      "metadata": {
        "id": "view-in-github",
        "colab_type": "text"
      },
      "source": [
        "<a href=\"https://colab.research.google.com/github/krishnakm4/Quasi-Synchronous-Random-Access/blob/main/Quasi_Synchronous_Random_Access.ipynb\" target=\"_parent\"><img src=\"https://colab.research.google.com/assets/colab-badge.svg\" alt=\"Open In Colab\"/></a>"
      ]
    },
    {
      "cell_type": "markdown",
      "source": [
        "#Equation #1 : Gk,q[l] = αk\n",
        "P\n",
        "X−1\n",
        "p=0\n",
        "βk,p,q[l]ar (θk,q, φk,q) a\n",
        "H\n",
        "t\n",
        "(ϑk,p,q, ϕk,p,q)"
      ],
      "metadata": {
        "id": "M4bozbmNc6Gb"
      }
    },
    {
      "cell_type": "code",
      "execution_count": 11,
      "metadata": {
        "id": "dKhYUdoUYnaL"
      },
      "outputs": [],
      "source": [
        "import numpy as np\n",
        "\n",
        "def calculate_Gkq(alpha_k, beta_kpq, theta_kq, phi_kq, theta_kpq, phi_kpq):\n",
        "    # alpha_k: Scalar value for alpha_k\n",
        "    # beta_kpq: A 3-dimensional numpy array containing beta values\n",
        "    # theta_kq, phi_kq, theta_kpq, phi_kpq: Numpy arrays containing theta and phi values\n",
        "\n",
        "    num_elements = len(theta_kq)  # Assuming that theta_kq and phi_kq have the same length\n",
        "\n",
        "    Gkq = np.zeros(num_elements, dtype=np.complex128)\n",
        "\n",
        "    for l in range(num_elements):\n",
        "        for p in range(num_elements):\n",
        "            sum_val = 0.0\n",
        "            for x in range(len(beta_kpq)):\n",
        "                sum_val += beta_kpq[x][l][p] * np.exp(1j * theta_kpq[x, l, p]) * np.exp(1j * phi_kpq[x, l, p])\n",
        "\n",
        "            Gkq[l] += alpha_k * np.power(sum_val, -1) * np.exp(1j * theta_kq[l]) * np.exp(1j * phi_kq[l])\n",
        "\n",
        "    return Gkq"
      ]
    },
    {
      "cell_type": "markdown",
      "source": [
        "#Testing equation 1"
      ],
      "metadata": {
        "id": "1jrmt9JedG3D"
      }
    },
    {
      "cell_type": "code",
      "source": [
        "import numpy as np\n",
        "import numpy.testing as npt\n",
        "\n",
        "def test_calculate_Gkq():\n",
        "    # Sample input data\n",
        "    alpha_k = 0.1\n",
        "    beta_kpq = np.random.rand(3, 3, 3) + 1j * np.random.rand(3, 3, 3)\n",
        "    theta_kq = np.random.rand(3)\n",
        "    phi_kq = np.random.rand(3)\n",
        "    theta_kpq = np.random.rand(3, 3, 3)\n",
        "    phi_kpq = np.random.rand(3, 3, 3)\n",
        "\n",
        "    # Expected results (assuming they are calculated correctly)\n",
        "    expected_result = alpha_k * np.sum(beta_kpq * np.exp(1j * theta_kpq) * np.exp(1j * phi_kpq) / (np.exp(1j * theta_kq) * np.exp(1j * phi_kq)))\n",
        "\n",
        "    # Calculate the result using the function\n",
        "    result = calculate_Gkq(alpha_k, beta_kpq, theta_kq, phi_kq, theta_kpq, phi_kpq)\n",
        "\n",
        "    # Compare the result with the expected result\n",
        "    #npt.assert_allclose(result, expected_result, rtol=1e-5)\n",
        "    print(result)\n",
        "\n",
        "if __name__ == \"__main__\":\n",
        "    test_calculate_Gkq()\n"
      ],
      "metadata": {
        "colab": {
          "base_uri": "https://localhost:8080/"
        },
        "id": "JyMKZQmVbc9n",
        "outputId": "efad7f8c-307d-4604-d2eb-9962cb9e761e"
      },
      "execution_count": 14,
      "outputs": [
        {
          "output_type": "stream",
          "name": "stdout",
          "text": [
            "[0.15460916-0.0305341j  0.09161552-0.09966827j 0.11737377-0.04319176j]\n"
          ]
        }
      ]
    },
    {
      "cell_type": "markdown",
      "source": [
        "Other equations"
      ],
      "metadata": {
        "id": "aXsY8Vlmm1vU"
      }
    },
    {
      "cell_type": "code",
      "source": [
        "# eq 2 - ar (θk,q, φk,q) = v\n",
        "# y\n",
        "# k\n",
        "# (θk,q, φk,q) ⊗ v\n",
        "# x\n",
        "# k\n",
        "# (θk,q, φk,q)\n",
        "\n",
        "import numpy as np\n",
        "\n",
        "def calculate_ar(θkq, φkq, vk, vx):\n",
        "    # θkq: Numpy array representing θk,q\n",
        "    # φkq: Numpy array representing φk,q\n",
        "    # vk: Numpy array representing vk\n",
        "    # vx: Numpy array representing vx\n",
        "\n",
        "    # Compute the outer product using numpy's outer function\n",
        "    ar = np.outer(vk, vx) * np.exp(1j * (θkq[:, None] - θkq[None, :])) * np.exp(1j * (φkq[:, None] - φkq[None, :]))\n",
        "\n",
        "    return ar\n",
        "\n",
        "# Example usage:\n",
        "# Define θkq, φkq, vk, and vx as Numpy arrays with appropriate values.\n",
        "# Then call the function calculate_ar(θkq, φkq, vk, vx) to calculate ar(θk,q, φk,q).\n",
        "\n"
      ],
      "metadata": {
        "id": "KxZVLaZ4mx8I"
      },
      "execution_count": 15,
      "outputs": []
    },
    {
      "cell_type": "code",
      "source": [
        "#testing eq-2\n",
        "import numpy as np\n",
        "import numpy.testing as npt\n",
        "\n",
        "def test_calculate_ar():\n",
        "    # Sample input data\n",
        "    θkq = np.array([0.1, 0.2, 0.3], dtype=np.float64)\n",
        "    φkq = np.array([0.4, 0.5, 0.6], dtype=np.float64)\n",
        "    vk = np.array([1 + 2j, 3 - 1j, 0 + 1j], dtype=np.complex128)\n",
        "    vx = np.array([2 - 1j, 0 + 2j, 1 + 3j], dtype=np.complex128)\n",
        "\n",
        "    # Calculate the result using the function\n",
        "    result = calculate_ar(θkq, φkq, vk, vx)\n",
        "\n",
        "    # Expected results (manually calculated)\n",
        "    expected_result = np.array([[ 1.2 + 2.8j, -1.4 + 4.4j, -1.2 + 4.4j],\n",
        "                                [ 2.8 - 0.2j,  8.2 + 2.6j,  7.4 + 2.6j],\n",
        "                                [ 0.6 + 1.2j,  2.6 + 3.2j,  3.2 + 4.2j]], dtype=np.complex128)\n",
        "\n",
        "    # Compare the result with the expected result\n",
        "    print(result)\n",
        "\n",
        "if __name__ == \"__main__\":\n",
        "    test_calculate_ar()"
      ],
      "metadata": {
        "colab": {
          "base_uri": "https://localhost:8080/"
        },
        "id": "7ZQLT69OnKkN",
        "outputId": "d9e0bb35-d9bd-447e-921b-f8818eef4294"
      },
      "execution_count": 17,
      "outputs": [
        {
          "output_type": "stream",
          "name": "stdout",
          "text": [
            "[[ 4.        +3.j         -3.52292765+2.75481048j -2.65821326+6.55239668j]\n",
            " [ 5.89367954-3.90698624j  2.        +6.j          7.46975411+6.64851664j]\n",
            " [ 0.14222431+2.23154033j -1.96013316-0.39733866j -3.        +1.j        ]]\n"
          ]
        }
      ]
    }
  ]
}